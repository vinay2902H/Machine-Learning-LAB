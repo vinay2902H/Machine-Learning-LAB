{
 "cells": [
  {
   "cell_type": "code",
   "execution_count": 1,
   "id": "71bdcc19-bc92-4b61-8716-5e84f5c10342",
   "metadata": {},
   "outputs": [],
   "source": [
    "import pandas as pd\n",
    "import matplotlib.pyplot as plt\n",
    "import seaborn as sns\n",
    "from sklearn.preprocessing import LabelEncoder, OneHotEncoder, StandardScaler\n",
    "from sklearn.model_selection import train_test_split"
   ]
  },
  {
   "cell_type": "code",
   "execution_count": 2,
   "id": "968aea4b-ec2e-45fa-ab07-1833f83bb035",
   "metadata": {},
   "outputs": [],
   "source": [
    "df=pd.read_csv('car_sales.csv')"
   ]
  },
  {
   "cell_type": "code",
   "execution_count": 5,
   "id": "531ad2de-5c26-4f0d-b79d-69dabe15241b",
   "metadata": {},
   "outputs": [
    {
     "data": {
      "text/html": [
       "<div>\n",
       "<style scoped>\n",
       "    .dataframe tbody tr th:only-of-type {\n",
       "        vertical-align: middle;\n",
       "    }\n",
       "\n",
       "    .dataframe tbody tr th {\n",
       "        vertical-align: top;\n",
       "    }\n",
       "\n",
       "    .dataframe thead th {\n",
       "        text-align: right;\n",
       "    }\n",
       "</style>\n",
       "<table border=\"1\" class=\"dataframe\">\n",
       "  <thead>\n",
       "    <tr style=\"text-align: right;\">\n",
       "      <th></th>\n",
       "      <th>Manufacturer</th>\n",
       "      <th>Model</th>\n",
       "      <th>Sales in thousands</th>\n",
       "      <th>4-year resale value</th>\n",
       "      <th>Vehicle type</th>\n",
       "      <th>Price in thousands</th>\n",
       "      <th>Engine size</th>\n",
       "      <th>Horsepower</th>\n",
       "      <th>Wheelbase</th>\n",
       "      <th>Width</th>\n",
       "      <th>Length</th>\n",
       "      <th>Curb weight</th>\n",
       "      <th>Fuel capacity</th>\n",
       "      <th>Fuel efficiency</th>\n",
       "      <th>Latest Launch</th>\n",
       "    </tr>\n",
       "  </thead>\n",
       "  <tbody>\n",
       "    <tr>\n",
       "      <th>0</th>\n",
       "      <td>Acura</td>\n",
       "      <td>Integra</td>\n",
       "      <td>16.919</td>\n",
       "      <td>16.36</td>\n",
       "      <td>Passenger</td>\n",
       "      <td>21.5</td>\n",
       "      <td>1.8</td>\n",
       "      <td>140</td>\n",
       "      <td>101.2</td>\n",
       "      <td>67.3</td>\n",
       "      <td>172.4</td>\n",
       "      <td>2.639</td>\n",
       "      <td>13.2</td>\n",
       "      <td>28</td>\n",
       "      <td>2-Feb-14</td>\n",
       "    </tr>\n",
       "    <tr>\n",
       "      <th>1</th>\n",
       "      <td>Acura</td>\n",
       "      <td>TL</td>\n",
       "      <td>39.384</td>\n",
       "      <td>19.875</td>\n",
       "      <td>Passenger</td>\n",
       "      <td>28.4</td>\n",
       "      <td>3.2</td>\n",
       "      <td>225</td>\n",
       "      <td>108.1</td>\n",
       "      <td>70.3</td>\n",
       "      <td>192.9</td>\n",
       "      <td>3.517</td>\n",
       "      <td>17.2</td>\n",
       "      <td>25</td>\n",
       "      <td>6-Mar-15</td>\n",
       "    </tr>\n",
       "    <tr>\n",
       "      <th>2</th>\n",
       "      <td>Acura</td>\n",
       "      <td>CL</td>\n",
       "      <td>14.114</td>\n",
       "      <td>18.225</td>\n",
       "      <td>Passenger</td>\n",
       "      <td>.</td>\n",
       "      <td>3.2</td>\n",
       "      <td>225</td>\n",
       "      <td>106.9</td>\n",
       "      <td>70.6</td>\n",
       "      <td>192</td>\n",
       "      <td>3.47</td>\n",
       "      <td>17.2</td>\n",
       "      <td>26</td>\n",
       "      <td>1-Apr-14</td>\n",
       "    </tr>\n",
       "    <tr>\n",
       "      <th>3</th>\n",
       "      <td>Acura</td>\n",
       "      <td>RL</td>\n",
       "      <td>8.588</td>\n",
       "      <td>29.725</td>\n",
       "      <td>Passenger</td>\n",
       "      <td>42</td>\n",
       "      <td>3.5</td>\n",
       "      <td>210</td>\n",
       "      <td>114.6</td>\n",
       "      <td>71.4</td>\n",
       "      <td>196.6</td>\n",
       "      <td>3.85</td>\n",
       "      <td>18</td>\n",
       "      <td>22</td>\n",
       "      <td>3-Oct-15</td>\n",
       "    </tr>\n",
       "    <tr>\n",
       "      <th>4</th>\n",
       "      <td>Audi</td>\n",
       "      <td>A4</td>\n",
       "      <td>20.397</td>\n",
       "      <td>22.255</td>\n",
       "      <td>Passenger</td>\n",
       "      <td>23.99</td>\n",
       "      <td>1.8</td>\n",
       "      <td>150</td>\n",
       "      <td>102.6</td>\n",
       "      <td>68.2</td>\n",
       "      <td>178</td>\n",
       "      <td>2.998</td>\n",
       "      <td>16.4</td>\n",
       "      <td>27</td>\n",
       "      <td>10-Aug-15</td>\n",
       "    </tr>\n",
       "  </tbody>\n",
       "</table>\n",
       "</div>"
      ],
      "text/plain": [
       "    Manufacturer              Model  Sales in thousands 4-year resale value  \\\n",
       "0  Acura          Integra                        16.919               16.36   \n",
       "1  Acura          TL                             39.384              19.875   \n",
       "2  Acura          CL                             14.114              18.225   \n",
       "3  Acura          RL                              8.588              29.725   \n",
       "4  Audi           A4                             20.397              22.255   \n",
       "\n",
       "  Vehicle type Price in thousands Engine size Horsepower Wheelbase Width  \\\n",
       "0    Passenger               21.5         1.8        140     101.2  67.3   \n",
       "1    Passenger               28.4         3.2        225     108.1  70.3   \n",
       "2    Passenger                  .         3.2        225     106.9  70.6   \n",
       "3    Passenger                 42         3.5        210     114.6  71.4   \n",
       "4    Passenger              23.99         1.8        150     102.6  68.2   \n",
       "\n",
       "  Length Curb weight Fuel capacity Fuel efficiency Latest Launch  \n",
       "0  172.4       2.639          13.2              28      2-Feb-14  \n",
       "1  192.9       3.517          17.2              25      6-Mar-15  \n",
       "2    192        3.47          17.2              26      1-Apr-14  \n",
       "3  196.6        3.85            18              22      3-Oct-15  \n",
       "4    178       2.998          16.4              27     10-Aug-15  "
      ]
     },
     "execution_count": 5,
     "metadata": {},
     "output_type": "execute_result"
    }
   ],
   "source": [
    "#1.Read top five values\n",
    "df.head()"
   ]
  },
  {
   "cell_type": "code",
   "execution_count": 7,
   "id": "129c065e-4230-440a-a779-fc8a0b034cb6",
   "metadata": {},
   "outputs": [
    {
     "data": {
      "text/plain": [
       "Manufacturer            object\n",
       "Model                   object\n",
       "Sales in thousands     float64\n",
       "4-year resale value     object\n",
       "Vehicle type            object\n",
       "Price in thousands      object\n",
       "Engine size             object\n",
       "Horsepower              object\n",
       "Wheelbase               object\n",
       "Width                   object\n",
       "Length                  object\n",
       "Curb weight             object\n",
       "Fuel capacity           object\n",
       "Fuel efficiency         object\n",
       "Latest Launch           object\n",
       "dtype: object"
      ]
     },
     "execution_count": 7,
     "metadata": {},
     "output_type": "execute_result"
    }
   ],
   "source": [
    "#2. Print dataframe info_data types of each column\n",
    "df.dtypes"
   ]
  },
  {
   "cell_type": "code",
   "execution_count": 9,
   "id": "42975279-dab0-4685-abbc-348af2aebfec",
   "metadata": {},
   "outputs": [
    {
     "name": "stdout",
     "output_type": "stream",
     "text": [
      "157\n"
     ]
    },
    {
     "data": {
      "text/plain": [
       "15"
      ]
     },
     "execution_count": 9,
     "metadata": {},
     "output_type": "execute_result"
    }
   ],
   "source": [
    "#3. Print number of rows and columns\n",
    "print(df.shape[0])\n",
    "df.shape[1]"
   ]
  },
  {
   "cell_type": "code",
   "execution_count": 11,
   "id": "67c2a92f-b9f8-4ee0-927f-7d4e42cb9d4d",
   "metadata": {},
   "outputs": [
    {
     "data": {
      "text/plain": [
       "(157, 15)"
      ]
     },
     "execution_count": 11,
     "metadata": {},
     "output_type": "execute_result"
    }
   ],
   "source": [
    "#4. Drop duplicate rows_if any\n",
    "df_clean=df.drop_duplicates()\n",
    "df_clean.shape"
   ]
  },
  {
   "cell_type": "code",
   "execution_count": 13,
   "id": "bcf7ebc8-5b9e-4c93-8d98-94bd78cf32ab",
   "metadata": {},
   "outputs": [
    {
     "data": {
      "text/plain": [
       "(157, 15)"
      ]
     },
     "execution_count": 13,
     "metadata": {},
     "output_type": "execute_result"
    }
   ],
   "source": [
    "#5. Print number of rows and columns after dropping\n",
    "df_clean.shape"
   ]
  },
  {
   "cell_type": "code",
   "execution_count": 15,
   "id": "ac7c10d8-0b84-4458-b9a2-74a5ce8d7014",
   "metadata": {},
   "outputs": [
    {
     "data": {
      "text/html": [
       "<div>\n",
       "<style scoped>\n",
       "    .dataframe tbody tr th:only-of-type {\n",
       "        vertical-align: middle;\n",
       "    }\n",
       "\n",
       "    .dataframe tbody tr th {\n",
       "        vertical-align: top;\n",
       "    }\n",
       "\n",
       "    .dataframe thead th {\n",
       "        text-align: right;\n",
       "    }\n",
       "</style>\n",
       "<table border=\"1\" class=\"dataframe\">\n",
       "  <thead>\n",
       "    <tr style=\"text-align: right;\">\n",
       "      <th></th>\n",
       "      <th>Sales in thousands</th>\n",
       "    </tr>\n",
       "  </thead>\n",
       "  <tbody>\n",
       "    <tr>\n",
       "      <th>count</th>\n",
       "      <td>157.000000</td>\n",
       "    </tr>\n",
       "    <tr>\n",
       "      <th>mean</th>\n",
       "      <td>52.998076</td>\n",
       "    </tr>\n",
       "    <tr>\n",
       "      <th>std</th>\n",
       "      <td>68.029422</td>\n",
       "    </tr>\n",
       "    <tr>\n",
       "      <th>min</th>\n",
       "      <td>0.110000</td>\n",
       "    </tr>\n",
       "    <tr>\n",
       "      <th>25%</th>\n",
       "      <td>14.114000</td>\n",
       "    </tr>\n",
       "    <tr>\n",
       "      <th>50%</th>\n",
       "      <td>29.450000</td>\n",
       "    </tr>\n",
       "    <tr>\n",
       "      <th>75%</th>\n",
       "      <td>67.956000</td>\n",
       "    </tr>\n",
       "    <tr>\n",
       "      <th>max</th>\n",
       "      <td>540.561000</td>\n",
       "    </tr>\n",
       "  </tbody>\n",
       "</table>\n",
       "</div>"
      ],
      "text/plain": [
       "       Sales in thousands\n",
       "count          157.000000\n",
       "mean            52.998076\n",
       "std             68.029422\n",
       "min              0.110000\n",
       "25%             14.114000\n",
       "50%             29.450000\n",
       "75%             67.956000\n",
       "max            540.561000"
      ]
     },
     "execution_count": 15,
     "metadata": {},
     "output_type": "execute_result"
    }
   ],
   "source": [
    "#6. Print summary statistics for numerical variables\n",
    "df_clean.describe()"
   ]
  },
  {
   "cell_type": "code",
   "execution_count": 17,
   "id": "54f81914-e393-4baa-8462-14c05bd51240",
   "metadata": {},
   "outputs": [
    {
     "data": {
      "text/plain": [
       "Manufacturer           0\n",
       "Model                  0\n",
       "Sales in thousands     0\n",
       "4-year resale value    0\n",
       "Vehicle type           0\n",
       "Price in thousands     0\n",
       "Engine size            0\n",
       "Horsepower             0\n",
       "Wheelbase              0\n",
       "Width                  0\n",
       "Length                 0\n",
       "Curb weight            0\n",
       "Fuel capacity          0\n",
       "Fuel efficiency        0\n",
       "Latest Launch          0\n",
       "dtype: int64"
      ]
     },
     "execution_count": 17,
     "metadata": {},
     "output_type": "execute_result"
    }
   ],
   "source": [
    "#7. Print number of missing values in each column\n",
    "df_clean.isnull().sum()"
   ]
  },
  {
   "cell_type": "code",
   "execution_count": 19,
   "id": "2d957356-99b6-4267-9e9b-2c2ad8d09a2b",
   "metadata": {},
   "outputs": [
    {
     "name": "stdout",
     "output_type": "stream",
     "text": [
      "Manufacturer\n"
     ]
    }
   ],
   "source": [
    "#8. Drop the column with most missing values\n",
    "print(df_clean.isnull().sum().idxmax())"
   ]
  },
  {
   "cell_type": "code",
   "execution_count": 21,
   "id": "f95f4682-4b7c-4d7c-a92c-41e561395419",
   "metadata": {},
   "outputs": [],
   "source": [
    "#9. Drop the rows with categorical missing values\n",
    "categorical_cols = df_clean.select_dtypes(include=[\"object\"]).columns  # Select categorical columns\n",
    "df_clean.dropna(subset=categorical_cols, inplace=True)\n"
   ]
  },
  {
   "cell_type": "code",
   "execution_count": 23,
   "id": "fa4406fe-f592-43d2-83da-07ebd23e7562",
   "metadata": {},
   "outputs": [
    {
     "data": {
      "text/html": [
       "<div>\n",
       "<style scoped>\n",
       "    .dataframe tbody tr th:only-of-type {\n",
       "        vertical-align: middle;\n",
       "    }\n",
       "\n",
       "    .dataframe tbody tr th {\n",
       "        vertical-align: top;\n",
       "    }\n",
       "\n",
       "    .dataframe thead th {\n",
       "        text-align: right;\n",
       "    }\n",
       "</style>\n",
       "<table border=\"1\" class=\"dataframe\">\n",
       "  <thead>\n",
       "    <tr style=\"text-align: right;\">\n",
       "      <th></th>\n",
       "      <th>Manufacturer</th>\n",
       "      <th>Model</th>\n",
       "      <th>Sales in thousands</th>\n",
       "      <th>4-year resale value</th>\n",
       "      <th>Vehicle type</th>\n",
       "      <th>Price in thousands</th>\n",
       "      <th>Engine size</th>\n",
       "      <th>Horsepower</th>\n",
       "      <th>Wheelbase</th>\n",
       "      <th>Width</th>\n",
       "      <th>Length</th>\n",
       "      <th>Curb weight</th>\n",
       "      <th>Fuel capacity</th>\n",
       "      <th>Fuel efficiency</th>\n",
       "      <th>Latest Launch</th>\n",
       "    </tr>\n",
       "  </thead>\n",
       "  <tbody>\n",
       "    <tr>\n",
       "      <th>0</th>\n",
       "      <td>Acura</td>\n",
       "      <td>Integra</td>\n",
       "      <td>16.919</td>\n",
       "      <td>16.36</td>\n",
       "      <td>Passenger</td>\n",
       "      <td>21.5</td>\n",
       "      <td>1.8</td>\n",
       "      <td>140</td>\n",
       "      <td>101.2</td>\n",
       "      <td>67.3</td>\n",
       "      <td>172.4</td>\n",
       "      <td>2.639</td>\n",
       "      <td>13.2</td>\n",
       "      <td>28</td>\n",
       "      <td>2-Feb-14</td>\n",
       "    </tr>\n",
       "    <tr>\n",
       "      <th>1</th>\n",
       "      <td>Acura</td>\n",
       "      <td>TL</td>\n",
       "      <td>39.384</td>\n",
       "      <td>19.875</td>\n",
       "      <td>Passenger</td>\n",
       "      <td>28.4</td>\n",
       "      <td>3.2</td>\n",
       "      <td>225</td>\n",
       "      <td>108.1</td>\n",
       "      <td>70.3</td>\n",
       "      <td>192.9</td>\n",
       "      <td>3.517</td>\n",
       "      <td>17.2</td>\n",
       "      <td>25</td>\n",
       "      <td>6-Mar-15</td>\n",
       "    </tr>\n",
       "    <tr>\n",
       "      <th>2</th>\n",
       "      <td>Acura</td>\n",
       "      <td>CL</td>\n",
       "      <td>14.114</td>\n",
       "      <td>18.225</td>\n",
       "      <td>Passenger</td>\n",
       "      <td>.</td>\n",
       "      <td>3.2</td>\n",
       "      <td>225</td>\n",
       "      <td>106.9</td>\n",
       "      <td>70.6</td>\n",
       "      <td>192</td>\n",
       "      <td>3.47</td>\n",
       "      <td>17.2</td>\n",
       "      <td>26</td>\n",
       "      <td>1-Apr-14</td>\n",
       "    </tr>\n",
       "    <tr>\n",
       "      <th>3</th>\n",
       "      <td>Acura</td>\n",
       "      <td>RL</td>\n",
       "      <td>8.588</td>\n",
       "      <td>29.725</td>\n",
       "      <td>Passenger</td>\n",
       "      <td>42</td>\n",
       "      <td>3.5</td>\n",
       "      <td>210</td>\n",
       "      <td>114.6</td>\n",
       "      <td>71.4</td>\n",
       "      <td>196.6</td>\n",
       "      <td>3.85</td>\n",
       "      <td>18</td>\n",
       "      <td>22</td>\n",
       "      <td>3-Oct-15</td>\n",
       "    </tr>\n",
       "    <tr>\n",
       "      <th>4</th>\n",
       "      <td>Audi</td>\n",
       "      <td>A4</td>\n",
       "      <td>20.397</td>\n",
       "      <td>22.255</td>\n",
       "      <td>Passenger</td>\n",
       "      <td>23.99</td>\n",
       "      <td>1.8</td>\n",
       "      <td>150</td>\n",
       "      <td>102.6</td>\n",
       "      <td>68.2</td>\n",
       "      <td>178</td>\n",
       "      <td>2.998</td>\n",
       "      <td>16.4</td>\n",
       "      <td>27</td>\n",
       "      <td>10-Aug-15</td>\n",
       "    </tr>\n",
       "  </tbody>\n",
       "</table>\n",
       "</div>"
      ],
      "text/plain": [
       "    Manufacturer              Model  Sales in thousands 4-year resale value  \\\n",
       "0  Acura          Integra                        16.919               16.36   \n",
       "1  Acura          TL                             39.384              19.875   \n",
       "2  Acura          CL                             14.114              18.225   \n",
       "3  Acura          RL                              8.588              29.725   \n",
       "4  Audi           A4                             20.397              22.255   \n",
       "\n",
       "  Vehicle type Price in thousands Engine size Horsepower Wheelbase Width  \\\n",
       "0    Passenger               21.5         1.8        140     101.2  67.3   \n",
       "1    Passenger               28.4         3.2        225     108.1  70.3   \n",
       "2    Passenger                  .         3.2        225     106.9  70.6   \n",
       "3    Passenger                 42         3.5        210     114.6  71.4   \n",
       "4    Passenger              23.99         1.8        150     102.6  68.2   \n",
       "\n",
       "  Length Curb weight Fuel capacity Fuel efficiency Latest Launch  \n",
       "0  172.4       2.639          13.2              28      2-Feb-14  \n",
       "1  192.9       3.517          17.2              25      6-Mar-15  \n",
       "2    192        3.47          17.2              26      1-Apr-14  \n",
       "3  196.6        3.85            18              22      3-Oct-15  \n",
       "4    178       2.998          16.4              27     10-Aug-15  "
      ]
     },
     "execution_count": 23,
     "metadata": {},
     "output_type": "execute_result"
    }
   ],
   "source": [
    "#10. Import the rows with numerical missing values\n",
    "numerical_cols = df_clean.select_dtypes(include=[\"number\"]).columns  # Select numerical columns\n",
    "df_clean[numerical_cols] = df_clean[numerical_cols].fillna(df_clean[numerical_cols].mean())  # Fill with mean\n",
    "df_clean.head()"
   ]
  },
  {
   "cell_type": "code",
   "execution_count": 25,
   "id": "846322ec-54b1-43f1-80be-5a273b904b7c",
   "metadata": {},
   "outputs": [
    {
     "name": "stdout",
     "output_type": "stream",
     "text": [
      "Most Expensive Car:\n",
      " Manufacturer               Hyundai      \n",
      "Model                  Accent           \n",
      "Sales in thousands                41.184\n",
      "4-year resale value                 5.86\n",
      "Vehicle type                   Passenger\n",
      "Price in thousands                 9.699\n",
      "Engine size                          1.5\n",
      "Horsepower                            92\n",
      "Wheelbase                           96.1\n",
      "Width                               65.7\n",
      "Length                             166.7\n",
      "Curb weight                         2.24\n",
      "Fuel capacity                       11.9\n",
      "Fuel efficiency                       31\n",
      "Latest Launch                   9-Oct-14\n",
      "Name: 62, dtype: object\n",
      "Least Expensive Car:\n",
      " Manufacturer               Acura        \n",
      "Model                  CL               \n",
      "Sales in thousands                14.114\n",
      "4-year resale value               18.225\n",
      "Vehicle type                   Passenger\n",
      "Price in thousands                     .\n",
      "Engine size                          3.2\n",
      "Horsepower                           225\n",
      "Wheelbase                          106.9\n",
      "Width                               70.6\n",
      "Length                               192\n",
      "Curb weight                         3.47\n",
      "Fuel capacity                       17.2\n",
      "Fuel efficiency                       26\n",
      "Latest Launch                   1-Apr-14\n",
      "Name: 2, dtype: object\n"
     ]
    }
   ],
   "source": [
    "#11. Sort the data w.r.t price_find the details of the most and the least expensive cars\n",
    "df_sorted = df_clean.sort_values(by=\"Price in thousands\", ascending=False)\n",
    "print(\"Most Expensive Car:\\n\", df_sorted.iloc[0])\n",
    "print(\"Least Expensive Car:\\n\", df_sorted.iloc[-1])\n"
   ]
  },
  {
   "cell_type": "code",
   "execution_count": 27,
   "id": "be6d5cdf-b7ab-4980-bc8b-ecdf257f17e4",
   "metadata": {},
   "outputs": [
    {
     "name": "stdout",
     "output_type": "stream",
     "text": [
      "min : . Max :  9.699\n"
     ]
    }
   ],
   "source": [
    "#12. Write a function to find min and max values of any column\n",
    "print(\"min :\",df['Price in thousands'].min(),\"Max : \", df['Price in thousands'].max())\n"
   ]
  },
  {
   "cell_type": "code",
   "execution_count": 47,
   "id": "e773cfd9-649d-4e91-93ad-fcd161fd9806",
   "metadata": {},
   "outputs": [
    {
     "name": "stdout",
     "output_type": "stream",
     "text": [
      "Horsepower Min: ., Max: 92\n",
      "Length Min: ., Max: 224.5\n",
      "Fuel Efficiency Min: ., Max: 45\n"
     ]
    }
   ],
   "source": [
    "#13. Call the above function to find min max of horse power, length, fuel efficiency\n",
    "import pandas as pd\n",
    "\n",
    "# Load the CSV file\n",
    " # Replace with your actual file path\n",
    "\n",
    "# Define the function to find min and max values of a column\n",
    "def find_min_max(column_name):\n",
    "    return df[column_name].min(), df[column_name].max()\n",
    "\n",
    "# Call the function for specific columns\n",
    "horsepower_min, horsepower_max = find_min_max(\"Horsepower\")\n",
    "length_min, length_max = find_min_max(\"Length\")\n",
    "fuel_eff_min, fuel_eff_max = find_min_max(\"Fuel efficiency\")\n",
    "\n",
    "# Print results\n",
    "print(f\"Horsepower Min: {horsepower_min}, Max: {horsepower_max}\")\n",
    "print(f\"Length Min: {length_min}, Max: {length_max}\")\n",
    "print(f\"Fuel Efficiency Min: {fuel_eff_min}, Max: {fuel_eff_max}\")\n"
   ]
  },
  {
   "cell_type": "code",
   "execution_count": null,
   "id": "fc20bf0b-56e6-451c-9cd9-b08abe83ebe3",
   "metadata": {},
   "outputs": [],
   "source": [
    "#14. Plot histogram of continuous numerical variable : price,sales,hoursepower,fuelefficiency\n",
    "df_clean[[\"Price in thousands\", \"Sales in thousands\", \"Horsepower\", \"Fuel efficiency\"]].hist(bins=30, figsize=(12, 8))\n",
    "plt.show()\n"
   ]
  },
  {
   "cell_type": "code",
   "execution_count": null,
   "id": "cbdb9c1b-b78a-4a1c-85f9-cd13f3ed7cd7",
   "metadata": {},
   "outputs": [],
   "source": [
    "#15. Probability density distribution of continuous numerical variable-length\n",
    "sns.kdeplot(df[\"Length\"], fill=True)\n",
    "plt.title(\"Probability Density Distribution of Length\")\n",
    "plt.xlabel(\"Length\")\n",
    "plt.ylabel(\"Density\")\n",
    "plt.show()\n",
    "\n"
   ]
  },
  {
   "cell_type": "code",
   "execution_count": null,
   "id": "5383c068-9d08-43d4-94d8-aac28c758326",
   "metadata": {},
   "outputs": [],
   "source": [
    "print(df.columns)\n"
   ]
  },
  {
   "cell_type": "code",
   "execution_count": null,
   "id": "02483e79-f5f5-46fa-84cd-b5b8845a1cd9",
   "metadata": {},
   "outputs": [],
   "source": [
    "#16. Count by category –group by manufacture\n",
    "manufacturer_count = df_clean.groupby(\"Manufacturer\")[\"Manufacturer\"].count()\n",
    "print(manufacturer_count)\n"
   ]
  },
  {
   "cell_type": "code",
   "execution_count": 30,
   "id": "4d25a7bd-a3c9-4bc6-afce-7d83876f4b97",
   "metadata": {},
   "outputs": [
    {
     "name": "stdout",
     "output_type": "stream",
     "text": [
      "   Sales in thousands\n",
      "0              16.919\n",
      "1              39.384\n",
      "2              14.114\n",
      "3               8.588\n",
      "4              20.397\n"
     ]
    }
   ],
   "source": [
    "#17. Select all numerical variables\n",
    "numerical_df = df_clean.select_dtypes(include=[\"number\"])\n",
    "print(numerical_df.head())\n"
   ]
  },
  {
   "cell_type": "code",
   "execution_count": 37,
   "id": "90c0f427-7be3-493a-8b7a-0105d8e50b63",
   "metadata": {},
   "outputs": [
    {
     "name": "stdout",
     "output_type": "stream",
     "text": [
      "Manufacturer           0\n",
      "Model                  0\n",
      "Sales in thousands     0\n",
      "4-year resale value    0\n",
      "Vehicle type           0\n",
      "Price in thousands     2\n",
      "Engine size            0\n",
      "Horsepower             0\n",
      "Wheelbase              0\n",
      "Width                  0\n",
      "Length                 0\n",
      "Curb weight            0\n",
      "Fuel capacity          0\n",
      "Fuel efficiency        0\n",
      "Latest Launch          0\n",
      "dtype: int64\n"
     ]
    }
   ],
   "source": [
    "#18. Print correlation coefficient value of price and sales\n",
    "df_clean[\"Price in thousands\"] = pd.to_numeric(df_clean[\"Price in thousands\"], errors='coerce')\n",
    "df_clean[\"Sales in thousands\"] = pd.to_numeric(df_clean[\"Sales in thousands\"], errors='coerce')\n",
    "print(df_clean.isnull().sum())\n",
    "\n"
   ]
  },
  {
   "cell_type": "code",
   "execution_count": 39,
   "id": "9d83f326-fe7a-49c2-99a5-3052b7f7dd9b",
   "metadata": {},
   "outputs": [
    {
     "data": {
      "image/png": "[encoded data removed]",
      "text/plain": [
       "<Figure size 640x480 with 1 Axes>"
      ]
     },
     "metadata": {},
     "output_type": "display_data"
    }
   ],
   "source": [
    "#19. Plot correlation of price and sales using scatterplot\n",
    "sns.scatterplot(x=df[\"Price in thousands\"], y=df[\"Sales in thousands\"])\n",
    "plt.xlabel(\"Price\")\n",
    "plt.ylabel(\"Sales\")\n",
    "plt.title(\"Scatterplot of Price vs. Sales\")\n",
    "plt.show()\n"
   ]
  },
  {
   "cell_type": "code",
   "execution_count": 40,
   "id": "3e719968-b2f8-4966-b849-eef7d6e869ec",
   "metadata": {},
   "outputs": [
    {
     "data": {
      "image/png": "[encoded data removed]",
      "text/plain": [
       "<Figure size 250x250 with 2 Axes>"
      ]
     },
     "metadata": {},
     "output_type": "display_data"
    }
   ],
   "source": [
    "#20.Pair plot\n",
    "sns.pairplot(df[[\"Price in thousands\", \"Sales in thousands\", \"Horsepower\", \"Fuel efficiency\"]])\n",
    "plt.show()\n"
   ]
  },
  {
   "cell_type": "code",
   "execution_count": 53,
   "id": "2a631792-00ba-47e5-a4b9-ba84e9a5379f",
   "metadata": {},
   "outputs": [
    {
     "data": {
      "image/png": "[encoded data removed]",
      "text/plain": [
       "<Figure size 1200x600 with 1 Axes>"
      ]
     },
     "metadata": {},
     "output_type": "display_data"
    }
   ],
   "source": [
    "#21. Boxplot of sales of different manufacturer\n",
    "import matplotlib.pyplot as plt\n",
    "import seaborn as sns\n",
    "\n",
    "plt.figure(figsize=(12, 6))\n",
    "sns.boxplot(x=\"Manufacturer\", y=\"Sales in thousands\", data=df)\n",
    "plt.xticks(rotation=90)\n",
    "plt.title(\"Boxplot of Sales by Manufacturer\")\n",
    "plt.show()\n"
   ]
  },
  {
   "cell_type": "code",
   "execution_count": null,
   "id": "b3c5884b-b52d-43dc-885d-502744f3a0d2",
   "metadata": {},
   "outputs": [],
   "source": []
  }
 ],
 "metadata": {
  "kernelspec": {
   "display_name": "Python [conda env:base] *",
   "language": "python",
   "name": "conda-base-py"
  },
  "language_info": {
   "codemirror_mode": {
    "name": "ipython",
    "version": 3
   },
   "file_extension": ".py",
   "mimetype": "text/x-python",
   "name": "python",
   "nbconvert_exporter": "python",
   "pygments_lexer": "ipython3",
   "version": "3.12.7"
  }
 },
 "nbformat": 4,
 "nbformat_minor": 5
}
